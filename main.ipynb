{
 "cells": [
  {
   "cell_type": "code",
   "id": "initial_id",
   "metadata": {
    "collapsed": true,
    "ExecuteTime": {
     "end_time": "2024-04-23T20:32:20.822767Z",
     "start_time": "2024-04-23T20:32:20.745978Z"
    }
   },
   "source": [
    "import numpy as np\n",
    "\n",
    "from src.estimator.scalar_mean import ScalarMeanClient\n",
    "from src.server import Server"
   ],
   "outputs": [],
   "execution_count": 1
  },
  {
   "metadata": {
    "ExecuteTime": {
     "end_time": "2024-04-23T20:35:12.707305Z",
     "start_time": "2024-04-23T20:35:12.463490Z"
    }
   },
   "cell_type": "code",
   "source": [
    "N = 5\n",
    "clients = []\n",
    "server = Server(lambda x: x)\n",
    "\n",
    "mus = np.random.normal(10, 2, (N, 1))\n",
    "num_samples = np.random.randint(100, 1000, N)\n",
    "local_estimations = np.zeros((N, 1))\n",
    "local_variances = np.zeros((N, 1))\n",
    "\n",
    "for i in range(N):\n",
    "    clients.append(ScalarMeanClient(i, num_samples[i], mus[i].reshape(1, 1), lambda x: 1 / (1 + x)))\n",
    "    local_estimations[i, :] = clients[i].local_estimate()\n",
    "    local_variances[i, :] = clients[i].bootstrap_variance()\n",
    "    \n",
    "aggregate = server.aggregate(local_estimations, local_variances)\n",
    "\n",
    "for i in range(N):\n",
    "    print(clients[i].id, clients[i].gain(aggregate[i]))"
   ],
   "id": "f5ce14ad52b278c3",
   "outputs": [
    {
     "name": "stdout",
     "output_type": "stream",
     "text": [
      "0 0.0005070409778935581\n",
      "1 -0.054745978916880156\n",
      "2 -0.03466350224146775\n",
      "3 0.008566102659277597\n",
      "4 -0.03904473430791067\n"
     ]
    }
   ],
   "execution_count": 27
  },
  {
   "metadata": {
    "ExecuteTime": {
     "end_time": "2024-04-23T20:36:26.122981Z",
     "start_time": "2024-04-23T20:36:26.119664Z"
    }
   },
   "cell_type": "code",
   "source": "1 / (1 + (aggregate - mus) ** 2), 1 / (1 + (local_estimations - mus) ** 2)",
   "id": "401776be262642f3",
   "outputs": [
    {
     "data": {
      "text/plain": [
       "(array([[0.98071627],\n",
       "        [0.94317707],\n",
       "        [0.96516603],\n",
       "        [0.99659505],\n",
       "        [0.96046289]]),\n",
       " array([[0.98020923],\n",
       "        [0.99792305],\n",
       "        [0.99982953],\n",
       "        [0.98802895],\n",
       "        [0.99950762]]))"
      ]
     },
     "execution_count": 34,
     "metadata": {},
     "output_type": "execute_result"
    }
   ],
   "execution_count": 34
  },
  {
   "metadata": {
    "ExecuteTime": {
     "end_time": "2024-04-23T20:32:29.266311Z",
     "start_time": "2024-04-23T20:32:29.263124Z"
    }
   },
   "cell_type": "code",
   "source": "aggregate",
   "id": "6ca49f60af44dbcd",
   "outputs": [
    {
     "data": {
      "text/plain": [
       "array([[15.06442216],\n",
       "       [13.98179496],\n",
       "       [14.86232809],\n",
       "       [10.6396438 ],\n",
       "       [ 3.65230372]])"
      ]
     },
     "execution_count": 10,
     "metadata": {},
     "output_type": "execute_result"
    }
   ],
   "execution_count": 10
  },
  {
   "metadata": {
    "ExecuteTime": {
     "end_time": "2024-04-23T20:32:21.933815Z",
     "start_time": "2024-04-23T20:32:21.931662Z"
    }
   },
   "cell_type": "code",
   "source": [
    "B = local_estimations\n",
    "variances = local_variances"
   ],
   "id": "6043de78593117b2",
   "outputs": [],
   "execution_count": 3
  },
  {
   "metadata": {
    "ExecuteTime": {
     "end_time": "2024-04-23T20:32:21.944950Z",
     "start_time": "2024-04-23T20:32:21.935546Z"
    }
   },
   "cell_type": "code",
   "source": "local_estimations, mus",
   "id": "a94220054ffd87d6",
   "outputs": [
    {
     "data": {
      "text/plain": [
       "(array([[15.06567954],\n",
       "        [13.98296198],\n",
       "        [14.8635686 ],\n",
       "        [10.64053186],\n",
       "        [ 3.65260857]]),\n",
       " array([14.96320396, 13.98523772, 14.83009385, 10.63699442,  3.66056572]))"
      ]
     },
     "execution_count": 4,
     "metadata": {},
     "output_type": "execute_result"
    }
   ],
   "execution_count": 4
  },
  {
   "metadata": {
    "ExecuteTime": {
     "end_time": "2024-04-23T20:32:21.953002Z",
     "start_time": "2024-04-23T20:32:21.945959Z"
    }
   },
   "cell_type": "code",
   "source": [
    "N = B.shape[0]\n",
    "V = np.eye(N) * variances.squeeze(axis=1)\n",
    "    \n",
    "print(B)\n",
    "C = B @ B.T\n",
    "K = B @ B.T\n",
    "W = K @ np.linalg.inv(C + V)\n",
    "B = (np.expand_dims(B, axis=0).repeat(repeats=N, axis=0) * np.expand_dims(W, axis=-1)).sum(axis=1)"
   ],
   "id": "ec44746ef2c899ec",
   "outputs": [
    {
     "name": "stdout",
     "output_type": "stream",
     "text": [
      "[[15.06567954]\n",
      " [13.98296198]\n",
      " [14.8635686 ]\n",
      " [10.64053186]\n",
      " [ 3.65260857]]\n"
     ]
    }
   ],
   "execution_count": 5
  },
  {
   "metadata": {
    "ExecuteTime": {
     "end_time": "2024-04-23T20:32:21.965Z",
     "start_time": "2024-04-23T20:32:21.953904Z"
    }
   },
   "cell_type": "code",
   "source": "W",
   "id": "70701898c53d8cb5",
   "outputs": [
    {
     "data": {
      "text/plain": [
       "array([[9.22396649e-04, 1.05999776e+00, 1.06695647e-03, 1.96087418e-02,\n",
       "        1.12550205e-03],\n",
       "       [8.56107236e-04, 9.83819439e-01, 9.90278054e-04, 1.81995303e-02,\n",
       "        1.04461616e-03],\n",
       "       [9.10022401e-04, 1.04577755e+00, 1.05264291e-03, 1.93456842e-02,\n",
       "        1.11040308e-03],\n",
       "       [6.51466859e-04, 7.48651258e-01, 7.53566033e-04, 1.38491889e-02,\n",
       "        7.94915381e-04],\n",
       "       [2.23631061e-04, 2.56991853e-01, 2.58678963e-04, 4.75405427e-03,\n",
       "        2.72873083e-04]])"
      ]
     },
     "execution_count": 6,
     "metadata": {},
     "output_type": "execute_result"
    }
   ],
   "execution_count": 6
  },
  {
   "metadata": {
    "ExecuteTime": {
     "end_time": "2024-04-23T20:32:22.183406Z",
     "start_time": "2024-04-23T20:32:21.965872Z"
    }
   },
   "cell_type": "code",
   "source": "clients[0].var ** 2, clients[0].bootstrap_variance(), clients[0].num_samples",
   "id": "ac452bead6f8d14",
   "outputs": [
    {
     "data": {
      "text/plain": [
       "(20.643424640457905, 20.746978415330904, 4404)"
      ]
     },
     "execution_count": 7,
     "metadata": {},
     "output_type": "execute_result"
    }
   ],
   "execution_count": 7
  },
  {
   "metadata": {
    "ExecuteTime": {
     "end_time": "2024-04-23T20:32:22.188519Z",
     "start_time": "2024-04-23T20:32:22.184542Z"
    }
   },
   "cell_type": "code",
   "source": "clients[0].local_estimate(), clients[0].ground_truth",
   "id": "badbd83194a84838",
   "outputs": [
    {
     "data": {
      "text/plain": [
       "(array([[15.06567954]]), array([[14.96320396]]))"
      ]
     },
     "execution_count": 8,
     "metadata": {},
     "output_type": "execute_result"
    }
   ],
   "execution_count": 8
  },
  {
   "metadata": {
    "ExecuteTime": {
     "end_time": "2024-04-23T20:32:22.197281Z",
     "start_time": "2024-04-23T20:32:22.189378Z"
    }
   },
   "cell_type": "code",
   "source": "clients[0].mse(clients[0].local_estimate())",
   "id": "8e991371e5715462",
   "outputs": [
    {
     "data": {
      "text/plain": [
       "0.01050124415732399"
      ]
     },
     "execution_count": 9,
     "metadata": {},
     "output_type": "execute_result"
    }
   ],
   "execution_count": 9
  }
 ],
 "metadata": {
  "kernelspec": {
   "display_name": "Python 3",
   "language": "python",
   "name": "python3"
  },
  "language_info": {
   "codemirror_mode": {
    "name": "ipython",
    "version": 2
   },
   "file_extension": ".py",
   "mimetype": "text/x-python",
   "name": "python",
   "nbconvert_exporter": "python",
   "pygments_lexer": "ipython2",
   "version": "2.7.6"
  }
 },
 "nbformat": 4,
 "nbformat_minor": 5
}
