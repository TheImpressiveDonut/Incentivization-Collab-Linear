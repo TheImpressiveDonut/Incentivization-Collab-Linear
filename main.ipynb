{
 "cells": [
  {
   "cell_type": "code",
   "id": "initial_id",
   "metadata": {
    "collapsed": true,
    "ExecuteTime": {
     "end_time": "2024-04-27T07:37:59.954265Z",
     "start_time": "2024-04-27T07:37:51.356351Z"
    }
   },
   "source": [
    "import numpy as np\n",
    "import seaborn as sns\n",
    "from matplotlib.colors import LinearSegmentedColormap\n",
    "\n",
    "from src.datasets.mnist import numpy_to_image\n",
    "from src.datasets.utils import get_dataset\n",
    "from src.estimator.OLS import OLSClient\n",
    "from src.server import Server\n",
    "\n",
    "cmap = LinearSegmentedColormap.from_list(\"black_white\", [(0, 'blue'), (1, 'red')])"
   ],
   "outputs": [],
   "execution_count": 2
  },
  {
   "metadata": {
    "ExecuteTime": {
     "end_time": "2024-04-27T07:38:00.042452Z",
     "start_time": "2024-04-27T07:37:59.957907Z"
    }
   },
   "cell_type": "code",
   "source": [
    "%load_ext autoreload\n",
    "%autoreload 2"
   ],
   "id": "f3655a933efb042b",
   "outputs": [],
   "execution_count": 3
  },
  {
   "metadata": {
    "ExecuteTime": {
     "end_time": "2024-04-27T07:38:09.648159Z",
     "start_time": "2024-04-27T07:38:00.046878Z"
    }
   },
   "cell_type": "code",
   "source": [
    "(X_train, y_train), (X_test, y_test) = get_dataset(\"mnist\")\n",
    "X_train.shape, y_train.shape, X_test.shape, y_test.shape"
   ],
   "id": "6d018947d1682e59",
   "outputs": [
    {
     "data": {
      "text/plain": "((60000, 784), (60000, 10), (10000, 784), (10000, 10))"
     },
     "execution_count": 4,
     "metadata": {},
     "output_type": "execute_result"
    }
   ],
   "execution_count": 4
  },
  {
   "cell_type": "code",
   "outputs": [],
   "source": [
    "c = OLSClient(-1, X_train, y_train, lambda x: 1 / (1 + x))"
   ],
   "metadata": {
    "collapsed": false,
    "ExecuteTime": {
     "end_time": "2024-04-27T07:38:09.707694Z",
     "start_time": "2024-04-27T07:38:09.652820Z"
    }
   },
   "id": "80ee8106f6c0a84b",
   "execution_count": 5
  },
  {
   "cell_type": "code",
   "outputs": [],
   "source": [
    "est = c.local_estimate()"
   ],
   "metadata": {
    "collapsed": false,
    "ExecuteTime": {
     "end_time": "2024-04-27T07:38:19.976435Z",
     "start_time": "2024-04-27T07:38:09.711793Z"
    }
   },
   "id": "b54d652829be3050",
   "execution_count": 6
  },
  {
   "cell_type": "code",
   "outputs": [
    {
     "data": {
      "text/plain": "(784, 10)"
     },
     "execution_count": 7,
     "metadata": {},
     "output_type": "execute_result"
    }
   ],
   "source": [
    "est.shape"
   ],
   "metadata": {
    "collapsed": false,
    "ExecuteTime": {
     "end_time": "2024-04-27T07:38:20.047186Z",
     "start_time": "2024-04-27T07:38:19.980341Z"
    }
   },
   "id": "8486b64f2d9316e9",
   "execution_count": 7
  },
  {
   "cell_type": "code",
   "outputs": [],
   "source": [
    "pred = X_test @ est"
   ],
   "metadata": {
    "collapsed": false,
    "ExecuteTime": {
     "end_time": "2024-04-27T07:38:20.129681Z",
     "start_time": "2024-04-27T07:38:20.050632Z"
    }
   },
   "id": "109ecf408b7f10f5",
   "execution_count": 8
  },
  {
   "cell_type": "markdown",
   "source": [
    "https://machinelearningmastery.com/polynomial-features-transforms-for-machine-learning/\n",
    "https://scikit-learn.org/stable/auto_examples/neural_networks/plot_mnist_filters.html\n",
    "https://jasondeden.medium.com/expand-your-horizons-d72f15e7ffa\n",
    "https://playground.tensorflow.org/#activation=tanh&batchSize=10&dataset=circle&regDataset=reg-plane&learningRate=0.03&regularizationRate=0&noise=0&networkShape=4,2&seed=0.22821&showTestData=false&discretize=false&percTrainData=50&x=true&y=true&xTimesY=false&xSquared=false&ySquared=false&cosX=false&sinX=false&cosY=false&sinY=false&collectStats=false&problem=classification&initZero=false&hideText=false"
   ],
   "metadata": {
    "collapsed": false
   },
   "id": "606719c5a20d6da2"
  },
  {
   "cell_type": "code",
   "outputs": [],
   "source": [
    "((pred - y_train) ** 2).sum()"
   ],
   "metadata": {
    "collapsed": false,
    "ExecuteTime": {
     "start_time": "2024-04-27T07:38:20.133539Z"
    }
   },
   "id": "6e7630013a4b4057"
  },
  {
   "metadata": {},
   "cell_type": "code",
   "source": [
    "#X, y = X[np.logical_or(y == 1, y == 7)],  y[np.logical_or(y == 1, y == 7)]"
   ],
   "id": "63d1743b912a7851",
   "outputs": [],
   "execution_count": null
  },
  {
   "metadata": {},
   "cell_type": "code",
   "source": [
    "N = 5\n",
    "clients = []\n",
    "\n",
    "num_samples = np.random.randint(10, 100, N)\n",
    "\n",
    "for i in range(N):\n",
    "    idx = np.random.choice(range(X.shape[0]), num_samples[i])\n",
    "    X_i, y_i = X[idx], y[idx]\n",
    "    clients.append(OLSClient(i, X_i, y_i, lambda x: 1 / (1 + x)))\n",
    "\n",
    "server = Server(clients)"
   ],
   "id": "f5ce14ad52b278c3",
   "outputs": [],
   "execution_count": null
  },
  {
   "cell_type": "code",
   "source": [
    "server.aggregate(unbiased=True)"
   ],
   "metadata": {
    "collapsed": false
   },
   "id": "dc348c5874be708a",
   "outputs": [],
   "execution_count": null
  },
  {
   "metadata": {},
   "cell_type": "code",
   "source": [
    "arr = clients[2].local_estimate()\n",
    "arr = (arr - np.min(arr)) / (np.max(arr) - np.min(arr))\n",
    "arr.reshape((28, 28), order=\"C\") * 255"
   ],
   "id": "8e2b0170ad508afe",
   "outputs": [],
   "execution_count": null
  },
  {
   "metadata": {},
   "cell_type": "code",
   "source": [
    "clients[2].local_estimate().reshape((28, 28)) * 1e20"
   ],
   "id": "6e0ed257ffbb670f",
   "outputs": [],
   "execution_count": null
  },
  {
   "metadata": {},
   "cell_type": "code",
   "source": [
    "sns.heatmap(clients[2].local_estimate().reshape((28, 28), order=\"C\"), cmap=cmap)"
   ],
   "id": "c96a620f406225a2",
   "outputs": [],
   "execution_count": null
  },
  {
   "metadata": {},
   "cell_type": "code",
   "source": [
    "sns.heatmap(server.mtl[4].reshape((28, 28), order=\"C\"), cmap=cmap)"
   ],
   "id": "52189d96c4ab59a9",
   "outputs": [],
   "execution_count": null
  },
  {
   "cell_type": "code",
   "outputs": [],
   "source": [
    "import torch\n",
    "import torchvision\n",
    "import torchvision.transforms as transforms\n",
    "import torch.nn as nn\n",
    "import torch.optim as optim\n",
    "\n",
    "# Load MNIST dataset\n",
    "transform = transforms.Compose([\n",
    "    transforms.ToTensor(),\n",
    "    transforms.Normalize((0.5,), (0.5,))\n",
    "])\n",
    "\n",
    "trainset = torchvision.datasets.MNIST(root='./src/datasets/data/mnist/root', train=True, download=True, transform=transform)\n",
    "trainloader = torch.utils.data.DataLoader(trainset, batch_size=64, shuffle=True)\n",
    "\n",
    "# Define a linear regression model\n",
    "class LinearRegression(nn.Module):\n",
    "    def __init__(self, input_size, output_size):\n",
    "        super(LinearRegression, self).__init__()\n",
    "        self.linear = nn.Linear(input_size, output_size)\n",
    "\n",
    "    def forward(self, x):\n",
    "        return self.linear(x)\n",
    "\n",
    "# Initialize the model\n",
    "input_size = 28 * 28  # Input size is the flattened image size\n",
    "output_size = 10  # Output size for linear regression\n",
    "model = LinearRegression(input_size, output_size)\n",
    "\n",
    "# Define loss function and optimizer\n",
    "criterion = nn.MSELoss()\n",
    "optimizer = optim.SGD(model.parameters(), lr=0.001)\n",
    "\n",
    "# Train the model\n",
    "num_epochs = 5\n",
    "for epoch in range(num_epochs):\n",
    "    running_loss = 0.0\n",
    "    for i, data in enumerate(trainloader, 0):\n",
    "        inputs, labels = data\n",
    "        inputs = inputs.view(inputs.size(0), -1)  # Flatten the input images\n",
    "        optimizer.zero_grad()\n",
    "\n",
    "        # Forward pass\n",
    "        outputs = model(inputs)\n",
    "        \n",
    "        # Calculate loss\n",
    "        labels = torch.eye(10)[labels]\n",
    "        loss = criterion(outputs, labels.float())  # Using MSE loss for regression\n",
    "\n",
    "        # Backward pass and optimize\n",
    "        loss.backward()\n",
    "        optimizer.step()\n",
    "\n",
    "        running_loss += loss.item()\n",
    "\n",
    "        if i % 100 == 99:  # Print every 100 mini-batches\n",
    "            print('[%d, %5d] loss: %.3f' %\n",
    "                  (epoch + 1, i + 1, running_loss / 100))\n",
    "            running_loss = 0.0\n",
    "\n",
    "print('Finished Training')\n"
   ],
   "metadata": {
    "collapsed": false
   },
   "id": "7f98a9eb3e45369f",
   "execution_count": null
  },
  {
   "cell_type": "code",
   "outputs": [],
   "source": [
    "model.linear.weight.data[0].shape"
   ],
   "metadata": {
    "collapsed": false
   },
   "id": "7d6f125188aa9762",
   "execution_count": null
  },
  {
   "cell_type": "code",
   "outputs": [],
   "source": [
    "import matplotlib.pyplot as plt\n",
    "import numpy as np\n",
    "\n",
    "# Extract the weights from the linear layer of the model\n",
    "weights = model.linear.weight.data[9].numpy().reshape(28, 28)  # Assuming input_size is 28 * 28\n",
    "\n",
    "# Plot the weights as an image\n",
    "plt.figure(figsize=(8, 6))\n",
    "plt.imshow(weights, cmap='gray')\n",
    "plt.colorbar()\n",
    "plt.title('Weights of Linear Regression Model')\n",
    "plt.xlabel('Pixel Column')\n",
    "plt.ylabel('Pixel Row')\n",
    "plt.show()\n"
   ],
   "metadata": {
    "collapsed": false
   },
   "id": "c19cadbe4ca2425a",
   "execution_count": null
  },
  {
   "cell_type": "code",
   "outputs": [],
   "source": [],
   "metadata": {
    "collapsed": false
   },
   "id": "bde40f905555d821"
  }
 ],
 "metadata": {
  "kernelspec": {
   "display_name": "Python 3",
   "language": "python",
   "name": "python3"
  },
  "language_info": {
   "codemirror_mode": {
    "name": "ipython",
    "version": 2
   },
   "file_extension": ".py",
   "mimetype": "text/x-python",
   "name": "python",
   "nbconvert_exporter": "python",
   "pygments_lexer": "ipython2",
   "version": "2.7.6"
  }
 },
 "nbformat": 4,
 "nbformat_minor": 5
}
